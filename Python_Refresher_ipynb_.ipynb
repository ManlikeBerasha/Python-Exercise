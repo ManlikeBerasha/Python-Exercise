{
  "nbformat": 4,
  "nbformat_minor": 0,
  "metadata": {
    "colab": {
      "provenance": [],
      "authorship_tag": "ABX9TyMjec8ihd0eRJyutD94ZTlE",
      "include_colab_link": true
    },
    "kernelspec": {
      "name": "python3",
      "display_name": "Python 3"
    },
    "language_info": {
      "name": "python"
    }
  },
  "cells": [
    {
      "cell_type": "markdown",
      "metadata": {
        "id": "view-in-github",
        "colab_type": "text"
      },
      "source": [
        "<a href=\"https://colab.research.google.com/github/ManlikeBerasha/Python-Exercise/blob/main/Python_Refresher_ipynb_.ipynb\" target=\"_parent\"><img src=\"https://colab.research.google.com/assets/colab-badge.svg\" alt=\"Open In Colab\"/></a>"
      ]
    },
    {
      "cell_type": "code",
      "execution_count": null,
      "metadata": {
        "id": "KDnHsbEaLKyU"
      },
      "outputs": [],
      "source": [
        "# Question 1\n",
        "#Write a program that asks the user for a number of days and prints the number of seconds in that duration.\n",
        "\n",
        "#prompt users input\n",
        "days = int(input(\"Enter number of days\"))\n",
        "\n",
        "#coverting days to seconds\n",
        "seconds=  days *24*60*60\n",
        "\n",
        "#display result\n",
        "print(f\"{days} day(s) = {seconds} seconds\")\n"
      ]
    },
    {
      "cell_type": "code",
      "source": [
        "#program to calculate the volume of a sphere\n",
        "\n",
        "import math\n",
        "\n",
        "#Prompt user for the radius\n",
        "radius = float(input(\"Enter the radius of the sphere: \"))\n",
        "\n",
        " #Formula: (4/3) * pi * r**3\n",
        "volume = (4/3) * math.pi * (radius **3)\n",
        "\n",
        "print(f\"Volume of the sphere with radius {radius} is {volume:.2f}\")\n",
        "\n"
      ],
      "metadata": {
        "id": "9vx-Z0mXxT79"
      },
      "execution_count": null,
      "outputs": []
    },
    {
      "cell_type": "code",
      "source": [
        "#functions for area and perimeter\n",
        "def square_area(side):\n",
        " return side * side\n",
        "\n",
        "def square_perimeter(side):\n",
        "  return 4 * side\n",
        "\n",
        "#prompt user for length\n",
        "side = float(input(\"please input the correct length\"))\n",
        "\n",
        "#displaying the results\n",
        "print(f\"Area of square: {square_area(side)}\")\n",
        "print(f\"perimeter of square: {square_perimeter(side)}\")"
      ],
      "metadata": {
        "id": "d7XP160nz3Nd"
      },
      "execution_count": null,
      "outputs": []
    },
    {
      "cell_type": "markdown",
      "source": [],
      "metadata": {
        "id": "e-be2bnExUz8"
      }
    },
    {
      "cell_type": "code",
      "source": [
        "#function to check the case\n",
        "def check_case(ch):\n",
        "  if ch.isupper():\n",
        "    return \"Uppercase\"\n",
        "\n",
        "  elif ch.islower():\n",
        "    return \"Lowercase\"\n",
        "\n",
        "  else:\n",
        "    return \"Not a letter\"\n",
        "\n",
        "#Ask user for a character\n",
        "char = input(\"Enter a character\")\n",
        "\n",
        "#only take the first character\n",
        "result = check_case(char[0])\n",
        "print(f\"The character '{char[0]}' is {result}.\")"
      ],
      "metadata": {
        "id": "97_pz8D21Pby"
      },
      "execution_count": null,
      "outputs": []
    },
    {
      "cell_type": "code",
      "source": [
        "#wprogream to input 5 values into an array and calculate average\n",
        "values = []\n",
        "\n",
        "#loop for 5 inputs\n",
        "for i in range(5):\n",
        "  num = float(input(\"Enter value {i+1}\"))\n",
        "  values.append(num)\n",
        "\n",
        "  #calculate the average\n",
        "  average = sum(values)/ len(values)\n",
        "\n",
        "  print(\"Values entered: \", values)\n",
        "  print(\"Average =\", average)"
      ],
      "metadata": {
        "id": "YhgaGrMD3Ph2"
      },
      "execution_count": null,
      "outputs": []
    }
  ]
}